{
 "cells": [
  {
   "cell_type": "markdown",
   "id": "03a2b372",
   "metadata": {},
   "source": [
    "## Read Dataset"
   ]
  },
  {
   "cell_type": "code",
   "execution_count": null,
   "id": "f65b2cd3",
   "metadata": {},
   "outputs": [],
   "source": [
    "import swifteda as sa\n",
    "DATASET_IMDB = \"datasets/IMDB_processed_data.csv\"\n",
    "data_imdb = sa.load_dataset(DATASET_IMDB)\n",
    "data_imdb.show_summary();"
   ]
  },
  {
   "cell_type": "markdown",
   "id": "1c87ad63",
   "metadata": {},
   "source": [
    "## Treatment of Duplicate and Null Data"
   ]
  },
  {
   "cell_type": "code",
   "execution_count": null,
   "id": "e259ce26",
   "metadata": {},
   "outputs": [],
   "source": [
    "# Tratamento dos nulos\n",
    "data_imdb = data_imdb.find_duplicates().drop_duplicates();"
   ]
  },
  {
   "cell_type": "markdown",
   "id": "661ff192",
   "metadata": {},
   "source": [
    "## Plot Data"
   ]
  },
  {
   "cell_type": "code",
   "execution_count": null,
   "id": "bd384ceb",
   "metadata": {},
   "outputs": [],
   "source": [
    "data_imdb.analyze_categoricals().plot_distributions().plot_correlations();"
   ]
  }
 ],
 "metadata": {
  "kernelspec": {
   "display_name": "base",
   "language": "python",
   "name": "python3"
  },
  "language_info": {
   "codemirror_mode": {
    "name": "ipython",
    "version": 3
   },
   "file_extension": ".py",
   "mimetype": "text/x-python",
   "name": "python",
   "nbconvert_exporter": "python",
   "pygments_lexer": "ipython3",
   "version": "3.12.7"
  }
 },
 "nbformat": 4,
 "nbformat_minor": 5
}
