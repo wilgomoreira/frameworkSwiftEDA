{
 "cells": [
  {
   "cell_type": "markdown",
   "id": "0405e49d",
   "metadata": {},
   "source": [
    "## Read Dataset"
   ]
  },
  {
   "cell_type": "code",
   "execution_count": null,
   "id": "8ed2a9e7",
   "metadata": {},
   "outputs": [],
   "source": [
    "import swifteda as sa\n",
    "DATASET_CAMPEONATO = 'datasets/dataset_campeonato_br_2007_2024_v2.xlsx'\n",
    "data_championship = sa.load_dataset(DATASET_CAMPEONATO)\n",
    "data_championship.show_summary();"
   ]
  },
  {
   "cell_type": "markdown",
   "id": "04194973",
   "metadata": {},
   "source": [
    "## Treatment of Duplicate and Null Data"
   ]
  },
  {
   "cell_type": "code",
   "execution_count": null,
   "id": "9e4aab24",
   "metadata": {},
   "outputs": [],
   "source": [
    "data_championship = data_championship.find_duplicates().drop_duplicates()"
   ]
  },
  {
   "cell_type": "markdown",
   "id": "6b63089f",
   "metadata": {},
   "source": [
    "## Plot Data"
   ]
  },
  {
   "cell_type": "code",
   "execution_count": null,
   "id": "5273493d",
   "metadata": {},
   "outputs": [],
   "source": [
    "data_championship.analyze_categoricals().plot_distributions().plot_correlations();"
   ]
  }
 ],
 "metadata": {
  "kernelspec": {
   "display_name": "base",
   "language": "python",
   "name": "python3"
  },
  "language_info": {
   "codemirror_mode": {
    "name": "ipython",
    "version": 3
   },
   "file_extension": ".py",
   "mimetype": "text/x-python",
   "name": "python",
   "nbconvert_exporter": "python",
   "pygments_lexer": "ipython3",
   "version": "3.12.7"
  }
 },
 "nbformat": 4,
 "nbformat_minor": 5
}
